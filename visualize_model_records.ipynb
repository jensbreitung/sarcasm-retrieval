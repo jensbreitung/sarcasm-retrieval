{
 "cells": [
  {
   "cell_type": "code",
   "execution_count": null,
   "metadata": {},
   "outputs": [],
   "source": [
    "# load the dataset (in full)\n",
    "import pandas as pd\n",
    "import numpy as np\n",
    "\n",
    "headlines_df = pd.read_csv(\"data/dataset.csv\")\n",
    "lst = list(headlines_df.itertuples(index=False, name=None))\n",
    "\n",
    "sents, labels = zip(*lst)"
   ]
  },
  {
   "cell_type": "code",
   "execution_count": null,
   "metadata": {},
   "outputs": [],
   "source": [
    "# create lookups\n",
    "\n",
    "sent_to_index = {sent: index for index, sent in enumerate(sents)}\n",
    "\n",
    "def is_sarcastic(sent_or_index):\n",
    "    if isinstance(sent_or_index, str):\n",
    "        index = sent_to_index[sent_or_index]\n",
    "        return labels[index]\n",
    "      \n",
    "    # assume that it is an int or numpy.int64\n",
    "    return labels[int(sent_or_index)]"
   ]
  },
  {
   "cell_type": "code",
   "execution_count": null,
   "metadata": {},
   "outputs": [],
   "source": [
    "from utils.misc import load\n",
    "\n",
    "# load recorded metrics\n",
    "record_path = \"./records/\"\n",
    "eval_id = \"0001\"\n",
    "\n",
    "baseline_metrics = load(f\"{record_path}{eval_id}_baseline_metrics.json\")\n",
    "model_records = load(f\"{record_path}{eval_id}_model_records.json\")"
   ]
  },
  {
   "attachments": {},
   "cell_type": "markdown",
   "metadata": {},
   "source": [
    "### Graph performance metrics from train/eval iterations"
   ]
  },
  {
   "cell_type": "code",
   "execution_count": null,
   "metadata": {},
   "outputs": [],
   "source": [
    "\n",
    "import matplotlib.pyplot as plt\n",
    "\n",
    "save_to_disk = False \n",
    "file_name = \"\"\n",
    "\n",
    "data = model_records\n",
    "baseline = baseline_metrics\n",
    "\n",
    "# Creating subplots for each metric\n",
    "include_overfitting = False\n",
    "metrics = ['polarity_score', 'similarity_score', 'overfitting_indicator']\n",
    "cutoff = 3 if include_overfitting else 2\n",
    "fig, axs = plt.subplots(1, cutoff, figsize=(15, 5))\n",
    "\n",
    "metric_labels = [\"Polarity Score\", \"Semantic Similarity Score\", \"Overfitting Indicator\"]\n",
    "keys = sorted(list(data.keys()))\n",
    "n_time_steps = len(data[keys[0]])\n",
    "\n",
    "lookup = {\n",
    "    \"Contrastive(lambda=0.2)\": [\"black\", \"-\"],\n",
    "    \"Contrastive(lambda=0.5)\": [\"black\", \"--\"],\n",
    "    \"OnlineContrastive(lambda=0.5)\": [\"blue\", \"--\"],\n",
    "    \"MultipleNegatives(scale=1)\": [\"m\", \"-\"],\n",
    "    \"MultipleNegatives(scale=20)\": [\"m\", \"--\"],\n",
    "    \"MultipleNegatives\": [\"m\", \"-\"],\n",
    "    \"MultipleNegatives(scale=100)\": [\"m\", \"-.\"],\n",
    "    \"Triplet(lambda=5)\": [\"r\", \"-\"], \n",
    "    \"Triplet(lambda=2)\": [\"r\", \"--\"], \n",
    "    \"Triplet(lambda=0.5)\": [\"orange\", \"-\"], \n",
    "    \"Triplet(lambda=0.1)\": [\"orange\", \"--\"], \n",
    "    \"Triplet(lambda=0.05)\": [\"green\", \"-.\"], \n",
    "    \"Triplet(lambda=0.01)\": [\"green\", \":\"], \n",
    "}\n",
    "\n",
    "for i, metric in enumerate(metrics[:cutoff]):\n",
    "    for j in range(n_time_steps):\n",
    "        axs[i].axvline(x=j, color='lightgray', linestyle='-', linewidth=0.5)\n",
    "\n",
    "    if metric in ['polarity_score', 'similarity_score']:\n",
    "        axs[i].axhline(y=baseline[metric], linestyle='-.', color='gray', label='Reference Embedding')\n",
    "        \n",
    "    for model_name in keys:\n",
    "        color, style = lookup[model_name]\n",
    "        model_data = data[model_name]\n",
    "        epochs = [d['epoch'] for d in model_data]\n",
    "        values = [d[metric] for d in model_data]\n",
    "        axs[i].plot(epochs, values, label=model_name, color=color, linestyle=style)\n",
    "\n",
    "    axs[i].set_xlabel('Iteration / Epoch')\n",
    "    axs[i].set_ylabel(metric_labels[i])\n",
    "    axs[i].set_title(metric_labels[i])\n",
    "\n",
    "legend = axs[1].legend(loc='upper center', bbox_to_anchor=(-0.1, -0.15), ncol=3, fontsize=12) \n",
    "\n",
    "if save_to_disk:\n",
    "    plt.savefig(f\"assets/{file_name}\", bbox_inches='tight', dpi=300)\n",
    "else:\n",
    "    plt"
   ]
  },
  {
   "attachments": {},
   "cell_type": "markdown",
   "metadata": {},
   "source": [
    "### PCA visualizations of test sentences"
   ]
  },
  {
   "cell_type": "code",
   "execution_count": null,
   "metadata": {},
   "outputs": [],
   "source": [
    "model_names = sorted(list(model_records.keys()))\n",
    "for i, model_name in enumerate(model_names):\n",
    "    print(f\"{i}) {model_name}\")"
   ]
  },
  {
   "cell_type": "code",
   "execution_count": null,
   "metadata": {},
   "outputs": [],
   "source": [
    "from utils.visualizations import scatter_pair\n",
    "\n",
    "# select model as well as test sentence id (0, 1, ..., n_test_sentences-1)\n",
    "# iter_1 and iter_2 represent the iteration numbers at which we take the PCA transformations of the retrieved sentences \n",
    "# select a model by choosing the corresponding index from the above list\n",
    "model_idx = 0 \n",
    "model_name = model_names[model_idx]\n",
    "sent_idx = 4\n",
    "iter_1 = 1\n",
    "iter_2 = -1\n",
    "\n",
    "base_1 = model_records[model_name][iter_1][\"raw_data\"][sent_idx]\n",
    "base_2 = model_records[model_name][iter_2][\"raw_data\"][sent_idx]\n",
    "\n",
    "sentence = base_1[\"sentence\"]\n",
    "ys = [is_sarcastic(s) for s in base_1[\"suggestions\"]] + [-1]\n",
    "embs_1 = np.append(base_1[\"suggestion_embeddings_2d\"], [base_1[\"embedding_2d\"]], 0)\n",
    "embs_2 = np.append(base_2[\"suggestion_embeddings_2d\"], [base_2[\"embedding_2d\"]], 0)\n",
    "\n",
    "print(f\"Model name: {model_name}\")\n",
    "print(f\"Sentence: {sentence}\")\n",
    "print(f\"Polarity: {'sarcastic' if is_sarcastic(sentence) else 'non-sarcastic'}\")\n",
    "scatter_pair(embs_1, iter_1, embs_2, iter_2, ys)"
   ]
  }
 ],
 "metadata": {
  "kernelspec": {
   "display_name": "Python 3",
   "language": "python",
   "name": "python3"
  },
  "language_info": {
   "codemirror_mode": {
    "name": "ipython",
    "version": 3
   },
   "file_extension": ".py",
   "mimetype": "text/x-python",
   "name": "python",
   "nbconvert_exporter": "python",
   "pygments_lexer": "ipython3",
   "version": "3.10.2"
  },
  "orig_nbformat": 4
 },
 "nbformat": 4,
 "nbformat_minor": 2
}
