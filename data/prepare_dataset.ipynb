{
 "cells": [
  {
   "attachments": {},
   "cell_type": "markdown",
   "metadata": {},
   "source": [
    "#### Step 1) Download the existing dataset and create tuples of labelled sentences"
   ]
  },
  {
   "cell_type": "code",
   "execution_count": 69,
   "metadata": {},
   "outputs": [
    {
     "name": "stdout",
     "output_type": "stream",
     "text": [
      "Dataset already downloaded. Skipping.\n"
     ]
    }
   ],
   "source": [
    "import os\n",
    "import requests\n",
    "\n",
    "file_name = \"sarcastic_news_headlines_dataset.json\"\n",
    "if not os.path.exists(file_name):\n",
    "    print(f\"Download dataset from GitHub.\")\n",
    "    data_url = \"https://raw.githubusercontent.com/rishabhmisra/News-Headlines-Dataset-For-Sarcasm-Detection/master/Sarcasm_Headlines_Dataset.json\"\n",
    "    with open(file_name, 'w') as f:\n",
    "        contents = requests.get(data_url).text\n",
    "        lines = contents.split(\"\\n\")\n",
    "        f.write(\"\\n\".join([line.strip() for line in lines]))\n",
    "else:\n",
    "    print(f\"Dataset already downloaded. Skipping.\")"
   ]
  },
  {
   "cell_type": "code",
   "execution_count": 70,
   "metadata": {},
   "outputs": [],
   "source": [
    "def parseJson(fname):\n",
    "    for line in open(fname, 'r'):\n",
    "        d = eval(line)\n",
    "        del d[\"article_link\"]\n",
    "        yield d\n",
    "        \n",
    "data = list(parseJson(file_name))\n",
    "\n",
    "data_tuples = [(item[\"headline\"], item[\"is_sarcastic\"]) for item in data]"
   ]
  },
  {
   "attachments": {},
   "cell_type": "markdown",
   "metadata": {},
   "source": [
    "#### Step 2) Import raw scraped texts"
   ]
  },
  {
   "cell_type": "code",
   "execution_count": 71,
   "metadata": {},
   "outputs": [],
   "source": [
    "# import raw data\n",
    "file_srcs = [\n",
    "    \"raw_scraped/babylonbee.txt\", \n",
    "    \"raw_scraped/onion.txt\", \n",
    "    \"raw_scraped/politico.txt\"\n",
    "]\n",
    "file_labels = [1, 1, 0]\n",
    "\n",
    "sents = []\n",
    "labels = []\n",
    "for i, file in enumerate(file_srcs):\n",
    "    with open(file, \"r\", encoding=\"utf-8\") as f:\n",
    "        lines = f.readlines()\n",
    "        sents += [line.strip() for line in lines]\n",
    "        labels += [file_labels[i]] * len(lines)"
   ]
  },
  {
   "attachments": {},
   "cell_type": "markdown",
   "metadata": {},
   "source": [
    "#### Step 3) Preprocessing and merging of data"
   ]
  },
  {
   "cell_type": "code",
   "execution_count": 72,
   "metadata": {},
   "outputs": [],
   "source": [
    "from unidecode import unidecode\n",
    "\n",
    "def preprocess(sent: str) -> str:\n",
    "    sent = sent.lower()\n",
    "    sent = unidecode(sent)\n",
    "    sent = sent.strip()\n",
    "    return sent\n",
    "    \n",
    "def filter_cond(sent):\n",
    "    return \"politico playbook\" not in sent \\\n",
    "            and len(sent.split()) in range(5, 16)"
   ]
  },
  {
   "cell_type": "code",
   "execution_count": 73,
   "metadata": {},
   "outputs": [],
   "source": [
    "# merge all data and ensure shape (sentence, label)\n",
    "# then preprocess sentences, filter them and ensure there are no duplicates\n",
    "labelled = data_tuples + list(zip(sents, labels))\n",
    "processed = [(preprocess(sent), label) for sent, label in labelled]\n",
    "filtered = [(sent, label) for sent, label in processed if filter_cond(sent)]\n",
    "unique = list(set(filtered))"
   ]
  },
  {
   "cell_type": "code",
   "execution_count": 74,
   "metadata": {},
   "outputs": [
    {
     "data": {
      "text/plain": [
       "53925"
      ]
     },
     "execution_count": 74,
     "metadata": {},
     "output_type": "execute_result"
    }
   ],
   "source": [
    "len(unique)"
   ]
  },
  {
   "attachments": {},
   "cell_type": "markdown",
   "metadata": {},
   "source": [
    "#### Step 4) Save to CSV"
   ]
  },
  {
   "cell_type": "code",
   "execution_count": 75,
   "metadata": {},
   "outputs": [
    {
     "data": {
      "text/plain": [
       "'Saved 53925 labelled examples to dataset.csv.'"
      ]
     },
     "execution_count": 75,
     "metadata": {},
     "output_type": "execute_result"
    }
   ],
   "source": [
    "import pandas as pd\n",
    "\n",
    "df = pd.DataFrame(unique, columns=[\"headline\", \"is_sarcastic\"])\n",
    "target = \"dataset.csv\"\n",
    "df.to_csv(target, index=False)\n",
    "\n",
    "f\"Saved {len(unique)} labelled examples to {target}.\""
   ]
  }
 ],
 "metadata": {
  "kernelspec": {
   "display_name": "Python 3",
   "language": "python",
   "name": "python3"
  },
  "language_info": {
   "codemirror_mode": {
    "name": "ipython",
    "version": 3
   },
   "file_extension": ".py",
   "mimetype": "text/x-python",
   "name": "python",
   "nbconvert_exporter": "python",
   "pygments_lexer": "ipython3",
   "version": "3.10.2"
  },
  "orig_nbformat": 4
 },
 "nbformat": 4,
 "nbformat_minor": 2
}
